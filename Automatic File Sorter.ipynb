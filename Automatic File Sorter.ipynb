{
 "cells": [
  {
   "cell_type": "markdown",
   "id": "03c1b29e-414f-4b52-a017-bab60ec14fd1",
   "metadata": {},
   "source": [
    "# Automatic File Sorter in File Explorer"
   ]
  },
  {
   "cell_type": "code",
   "execution_count": 1,
   "id": "d83742ff-dc4b-4251-93d8-94fb9fa2976a",
   "metadata": {},
   "outputs": [],
   "source": [
    "import os, shutil"
   ]
  },
  {
   "cell_type": "code",
   "execution_count": 2,
   "id": "b938a54e-eb3b-4099-9daa-5ad9add4246d",
   "metadata": {},
   "outputs": [],
   "source": [
    "path = r\"D:/Development/Python/Automatic File Explorer project/\""
   ]
  },
  {
   "cell_type": "code",
   "execution_count": 3,
   "id": "a467cb42-9111-4a1d-9040-9173666d68e6",
   "metadata": {},
   "outputs": [
    {
     "name": "stdout",
     "output_type": "stream",
     "text": [
      "['Assignment.docx', 'Automatic File Sorter.py', 'csv files', 'image files', 'pdf files', 'text files']\n"
     ]
    }
   ],
   "source": [
    "file_name = os.listdir(path)\n",
    "\n",
    "print(file_name)"
   ]
  },
  {
   "cell_type": "code",
   "execution_count": 6,
   "id": "27483722-d81e-4132-9969-bb655efcbaf0",
   "metadata": {},
   "outputs": [],
   "source": [
    "folder_names = ['csv files', 'image files', 'text files', 'pdf files']\n",
    "\n",
    "for i in range(0, 4):\n",
    "    # print(folder_names[i])\n",
    "    if not os.path.exists(path + folder_names[i]):\n",
    "        # print(path + folder_names[i])\n",
    "        os.makedirs(path + folder_names[i])\n",
    "\n",
    "for file in file_name:\n",
    "    if \".csv\" in file and not os.path.exists(path + \"csv files/\" + file):\n",
    "        shutil.move(path + file, path + \"csv files/\" + file)\n",
    "    elif \".txt\" in file and not os.path.exists(path + \"text files/\" + file):\n",
    "        shutil.move(path + file, path + \"text files/\" + file)\n",
    "    elif \".jpg\" in file and not os.path.exists(path + \"image files/\" + file):\n",
    "        shutil.move(path + file, path + \"image files/\" + file)\n",
    "    elif \".pdf\" in file and not os.path.exists(path + \"pdf files/\" + file):\n",
    "        shutil.move(path + file, path + \"pdf files/\" + file)\n",
    "    "
   ]
  },
  {
   "cell_type": "code",
   "execution_count": null,
   "id": "b3215f22-f707-4db3-85da-7bcc1c82df6d",
   "metadata": {},
   "outputs": [],
   "source": []
  },
  {
   "cell_type": "code",
   "execution_count": null,
   "id": "9d720114-1e43-4167-9aba-40b297e81cae",
   "metadata": {},
   "outputs": [],
   "source": []
  },
  {
   "cell_type": "code",
   "execution_count": null,
   "id": "f7f08c12-b2f6-40d9-b98d-7ca9f9575d46",
   "metadata": {},
   "outputs": [],
   "source": []
  },
  {
   "cell_type": "code",
   "execution_count": null,
   "id": "78df7ab8-f31d-436a-81b8-809323b98d2e",
   "metadata": {},
   "outputs": [],
   "source": []
  }
 ],
 "metadata": {
  "kernelspec": {
   "display_name": "Python 3 (ipykernel)",
   "language": "python",
   "name": "python3"
  },
  "language_info": {
   "codemirror_mode": {
    "name": "ipython",
    "version": 3
   },
   "file_extension": ".py",
   "mimetype": "text/x-python",
   "name": "python",
   "nbconvert_exporter": "python",
   "pygments_lexer": "ipython3",
   "version": "3.13.5"
  }
 },
 "nbformat": 4,
 "nbformat_minor": 5
}
